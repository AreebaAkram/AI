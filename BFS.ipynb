{
 "cells": [
  {
   "cell_type": "code",
   "execution_count": null,
   "id": "7feafc6e-4c99-48f4-87cb-f02002d2e3bf",
   "metadata": {},
   "outputs": [],
   "source": [
    "from collections import deque\n",
    "graph = {\n",
    "    'A' : ['B', 'C'],\n",
    "    'B' : ['D', 'E'],\n",
    "    'C' : ['F', 'G'],\n",
    "    'D' :[],\n",
    "    'E' :[],\n",
    "    'F' : [],\n",
    "    'G' : []\n",
    "}\n",
    "start = 'A'\n",
    "queue = deque([start])\n",
    "visited = set()\n",
    "\n",
    "while queue:\n",
    "    node  = queue.popleft()\n",
    "    if node not in visited:\n",
    "        print (node)\n",
    "        visited.add(node)\n",
    "    for i in (graph[node]):\n",
    "        if i not in visited:\n",
    "            queue.append(i)"
   ]
  }
 ],
 "metadata": {
  "kernelspec": {
   "display_name": "Python 3 (ipykernel)",
   "language": "python",
   "name": "python3"
  },
  "language_info": {
   "codemirror_mode": {
    "name": "ipython",
    "version": 3
   },
   "file_extension": ".py",
   "mimetype": "text/x-python",
   "name": "python",
   "nbconvert_exporter": "python",
   "pygments_lexer": "ipython3",
   "version": "3.13.1"
  }
 },
 "nbformat": 4,
 "nbformat_minor": 5
}
