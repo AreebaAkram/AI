{
 "cells": [
  {
   "cell_type": "code",
   "execution_count": 2,
   "id": "eeb86e4d-a07c-46e3-842b-14860d056d17",
   "metadata": {},
   "outputs": [
    {
     "name": "stdout",
     "output_type": "stream",
     "text": [
      "A\n",
      "B\n",
      "D\n",
      "E\n",
      "C\n",
      "F\n",
      "G\n"
     ]
    }
   ],
   "source": [
    "from collections import deque\n",
    "graph = {\n",
    "    'A' : ['B', 'C'],\n",
    "    'B' : ['D', 'E'],\n",
    "    'C' : ['F', 'G'],\n",
    "    'D' :[],\n",
    "    'E' :[],\n",
    "    'F' : [],\n",
    "    'G' : []\n",
    "}\n",
    "start = 'A'\n",
    "queue = deque([start])\n",
    "# To store all the visisted nodes in a set\n",
    "visited = set()\n",
    "while queue:\n",
    "    node  = queue.pop()\n",
    "    if node not in visited:\n",
    "        print (node)\n",
    "        visited.add(node)\n",
    "    for i in reversed (graph[node]):\n",
    "        if i not in visited:\n",
    "            queue.append(i)"
   ]
  },
  {
   "cell_type": "code",
   "execution_count": null,
   "id": "3dc5a0e8-5adc-4592-b971-e3340d0d4f75",
   "metadata": {},
   "outputs": [],
   "source": []
  }
 ],
 "metadata": {
  "kernelspec": {
   "display_name": "Python 3 (ipykernel)",
   "language": "python",
   "name": "python3"
  },
  "language_info": {
   "codemirror_mode": {
    "name": "ipython",
    "version": 3
   },
   "file_extension": ".py",
   "mimetype": "text/x-python",
   "name": "python",
   "nbconvert_exporter": "python",
   "pygments_lexer": "ipython3",
   "version": "3.13.1"
  }
 },
 "nbformat": 4,
 "nbformat_minor": 5
}
