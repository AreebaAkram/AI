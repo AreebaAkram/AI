{
 "cells": [
  {
   "cell_type": "code",
   "execution_count": 8,
   "id": "ac7c391c-fe4e-485b-8791-db199893e121",
   "metadata": {},
   "outputs": [
    {
     "name": "stdout",
     "output_type": "stream",
     "text": [
      "3\n"
     ]
    }
   ],
   "source": [
    "class Node:\n",
    "    def __init__(self, value):\n",
    "        self.data = value\n",
    "        self.left = None\n",
    "        self.right= None\n",
    "\n",
    "t = Node(1)\n",
    "t.left = Node(2)\n",
    "t.right = Node(3)\n",
    "t.left.left = Node(4)\n",
    "t.left.right = Node(5)\n",
    "t.right.left = Node(6)\n",
    "t.left.right.left = Node(7)\n",
    "t.right.left.left = Node(8)\n",
    "\n",
    "def height(root):\n",
    "    if root is None:\n",
    "        return -1\n",
    "    left_height = height(root.left)\n",
    "    right_height = height(root.right)\n",
    "    return max(left_height, right_height) + 1\n",
    "print(height(t))"
   ]
  },
  {
   "cell_type": "code",
   "execution_count": null,
   "id": "4d110783-8d59-4158-af51-1f29700b4861",
   "metadata": {},
   "outputs": [],
   "source": []
  }
 ],
 "metadata": {
  "kernelspec": {
   "display_name": "Python 3 (ipykernel)",
   "language": "python",
   "name": "python3"
  },
  "language_info": {
   "codemirror_mode": {
    "name": "ipython",
    "version": 3
   },
   "file_extension": ".py",
   "mimetype": "text/x-python",
   "name": "python",
   "nbconvert_exporter": "python",
   "pygments_lexer": "ipython3",
   "version": "3.13.1"
  }
 },
 "nbformat": 4,
 "nbformat_minor": 5
}
