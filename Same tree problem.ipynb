{
 "cells": [
  {
   "cell_type": "code",
   "execution_count": 3,
   "id": "24efd9a0-69f5-41c8-9229-9aed9349408c",
   "metadata": {},
   "outputs": [
    {
     "name": "stdout",
     "output_type": "stream",
     "text": [
      "NOT IDENTICAL\n"
     ]
    }
   ],
   "source": [
    "from collections import deque\n",
    "class Node:\n",
    "    def __init__(self, value):\n",
    "        self.data = value\n",
    "        self.left = None\n",
    "        self.right= None\n",
    "t1 = Node(10)\n",
    "t1.left = Node(7)\n",
    "t1.right = Node(15)\n",
    "t1.left.left = Node(4)\n",
    "t1.left.right = Node(9)\n",
    "t1.right.right = Node(20)\n",
    "\n",
    "t2 = Node(100)\n",
    "t2.left = Node(70)\n",
    "t2.right = Node(150)\n",
    "t2.left.left = Node(40)\n",
    "t2.left.right = Node(90)\n",
    "t2.right.right = Node(200)\n",
    "\n",
    "if t1 is None and t2 is None:\n",
    "    print(\"Both trees are empty. So, IDENTICAL\")\n",
    "else:\n",
    "    if t1 is None or t2 is None:\n",
    "        print(\"One of the tree is empty, NOT IDENTICAL\")\n",
    "    else:\n",
    "        q1 = deque([t1])\n",
    "        q2 = deque([t2])\n",
    "        identical = True\n",
    "\n",
    "        while q1 and q2:\n",
    "            node1 = q1.popleft()\n",
    "            node2 = q2.popleft()\n",
    "            if node1.data != node2.data:\n",
    "                identical = False\n",
    "                break\n",
    "            if node1.left and node2.left:\n",
    "                q1.append(node1.left)\n",
    "                q2.append(node2.left)\n",
    "            elif node1.left or node2.left:\n",
    "                identical = False\n",
    "                break\n",
    "            if node1.right and node2.right:\n",
    "                q1.append(node1.right)\n",
    "                q2.append(node2.right)\n",
    "            elif node1.right or node2.right:\n",
    "                identical = False\n",
    "                break\n",
    "                \n",
    "        if identical and not q1 and not q2:\n",
    "            print(\"IDENTICAL\")\n",
    "        else:\n",
    "            print(\"NOT IDENTICAL\")\n",
    "          "
   ]
  },
  {
   "cell_type": "code",
   "execution_count": null,
   "id": "c3d75df0-5476-4287-aea8-7447778f0dfb",
   "metadata": {},
   "outputs": [],
   "source": []
  }
 ],
 "metadata": {
  "kernelspec": {
   "display_name": "Python 3 (ipykernel)",
   "language": "python",
   "name": "python3"
  },
  "language_info": {
   "codemirror_mode": {
    "name": "ipython",
    "version": 3
   },
   "file_extension": ".py",
   "mimetype": "text/x-python",
   "name": "python",
   "nbconvert_exporter": "python",
   "pygments_lexer": "ipython3",
   "version": "3.13.1"
  }
 },
 "nbformat": 4,
 "nbformat_minor": 5
}
